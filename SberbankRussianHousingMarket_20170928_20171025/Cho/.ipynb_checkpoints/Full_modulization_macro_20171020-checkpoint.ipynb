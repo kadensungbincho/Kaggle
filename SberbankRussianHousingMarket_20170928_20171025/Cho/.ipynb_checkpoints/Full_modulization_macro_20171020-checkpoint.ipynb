{
 "cells": [
  {
   "cell_type": "code",
   "execution_count": 6,
   "metadata": {},
   "outputs": [
    {
     "name": "stdout",
     "output_type": "stream",
     "text": [
      "Function dropping_outliers :287 rows have beed deleted\n",
      "21283\n",
      "21283\n"
     ]
    }
   ],
   "source": [
    "import pandas as pd\n",
    "import numpy as np\n",
    "import statsmodels.api as sm\n",
    "import math as m\n",
    "import matplotlib.pyplot as plt\n",
    "from sklearn import datasets\n",
    "from sklearn.linear_model import LinearRegression\n",
    "from sklearn.metrics import mean_squared_error, r2_score\n",
    "from sklearn import metrics\n",
    "\n",
    "def read_csv():\n",
    "    #train = pd.read_csv('dss-regression-datasets/project-sberbank-housing-market-data/train.csv')\n",
    "#     train = pd.read_csv('treated_train_df.csv')\n",
    "#     train = pd.read_csv('train_df_treated_20171021.csv')\n",
    "    train = pd.read_csv('train_tr_byear_sta_20171023.csv')\n",
    "\n",
    "#     m_train = pd.read_csv('dss-regression-datasets/project-sberbank-housing-market-data/macro.csv')   \n",
    "    m_train = pd.read_csv('macro_train_imputated_df_20171023.csv')\n",
    "    return train, m_train\n",
    "\n",
    "\n",
    "#encode macro cat variable\n",
    "def m_encode_cat(df):\n",
    "    #get categorical(type='object') variable\n",
    "    cat_var_df = df.select_dtypes(include=['object']).copy()\n",
    "    \n",
    "    \n",
    "    cleanup_nums = {\"child_on_acc_pre_school\":{'#!' : 0, '3,013' : 1, '7,311' : 2, '16,765' : 3, '45,713' : 4},                \n",
    "                \"modern_education_share\": {'90,92' : 1, '93,08' : 1, '95,4918' : 2},\n",
    "                \"old_education_build_share\": {'23,14' : 1, '25,47' : 1, '8,2517' : 2}}\n",
    "           \n",
    "    try:\n",
    "        cat_var_df.replace(cleanup_nums, inplace=True)\n",
    "    except:\n",
    "        pass\n",
    "    \n",
    "    df = df.drop(cat_var_df.columns, axis=1)\n",
    "    df = pd.concat([df, cat_var_df], axis=1)\n",
    "    return df\n",
    "\n",
    "#dropping outliers by fox_criteria\n",
    "def dropping_outliers1(x, y):\n",
    "    x1 = sm.add_constant(x)\n",
    "    model = sm.OLS(y, x1)\n",
    "    result = model.fit()\n",
    "    influence = result.get_influence()\n",
    "    cooks_d2, pvals = influence.cooks_distance\n",
    "    fox_cr = 4 / (len(y) - len(x.columns) -1)\n",
    "    idx = np.where(cooks_d2 > fox_cr)[0]\n",
    "    x = x.drop(x.index[idx])\n",
    "    y = y.drop(y.index[idx])\n",
    "    print(\"Function dropping_outliers :\" + str(len(idx)) + ' rows have beed deleted')\n",
    "    return x, y\n",
    "\n",
    "train, m_train = read_csv()\n",
    "m_train_df_enc = m_encode_cat(m_train)\n",
    "\n",
    "#need merge\n",
    "price_time_df = train[['timestamp', 'price_doc']]\n",
    "m_train_df_enc_merge = pd.merge(m_train_df_enc, price_time_df, how='inner', on='timestamp')\n",
    "\n",
    "#divide variables\n",
    "m_dep_df = m_train_df_enc_merge[['price_doc', 'timestamp']]\n",
    "m_cat_df = m_train_df_enc_merge[['child_on_acc_pre_school', 'modern_education_share', 'old_education_build_share']]\n",
    "m_num_dum_df = m_train_df_enc_merge.drop([*m_cat_df.columns, *m_dep_df.columns], axis=1)\n",
    "m_y = m_dep_df.price_doc\n",
    "\n",
    "#num_dum_df, dep outliers cleasing & cat_var rows cleansing following num_dum_df\n",
    "m_num_dum_df_do1, m_dep_df_do1 = dropping_outliers1(m_num_dum_df, m_y)\n",
    "m_cat_df_do1 = m_cat_df.loc[m_num_df_do1.index, :]\n",
    "print(len(m_cat_df_do1.index))\n",
    "print(len(m_num_dum_df_do1.index))"
   ]
  },
  {
   "cell_type": "code",
   "execution_count": 3,
   "metadata": {},
   "outputs": [
    {
     "name": "stdout",
     "output_type": "stream",
     "text": [
      "(21570, 101)\n",
      "(21570, 2)\n",
      "(21570, 3)\n",
      "(21570, 96)\n"
     ]
    },
    {
     "data": {
      "text/html": [
       "<div>\n",
       "<style>\n",
       "    .dataframe thead tr:only-child th {\n",
       "        text-align: right;\n",
       "    }\n",
       "\n",
       "    .dataframe thead th {\n",
       "        text-align: left;\n",
       "    }\n",
       "\n",
       "    .dataframe tbody tr th {\n",
       "        vertical-align: top;\n",
       "    }\n",
       "</style>\n",
       "<table border=\"1\" class=\"dataframe\">\n",
       "  <thead>\n",
       "    <tr style=\"text-align: right;\">\n",
       "      <th></th>\n",
       "      <th>Column Type</th>\n",
       "      <th>Count</th>\n",
       "    </tr>\n",
       "  </thead>\n",
       "  <tbody>\n",
       "    <tr>\n",
       "      <th>0</th>\n",
       "      <td>float64</td>\n",
       "      <td>100</td>\n",
       "    </tr>\n",
       "    <tr>\n",
       "      <th>1</th>\n",
       "      <td>object</td>\n",
       "      <td>1</td>\n",
       "    </tr>\n",
       "  </tbody>\n",
       "</table>\n",
       "</div>"
      ],
      "text/plain": [
       "  Column Type  Count\n",
       "0     float64    100\n",
       "1      object      1"
      ]
     },
     "execution_count": 3,
     "metadata": {},
     "output_type": "execute_result"
    }
   ],
   "source": [
    "print(m_train_df_enc_merge.shape)\n",
    "print(m_dep_df.shape)\n",
    "print(m_cat_df.shape)\n",
    "print(m_num_df.shape)\n",
    "\n",
    "dtype_df = m_train_df_enc_merge.dtypes.reset_index()\n",
    "dtype_df.columns = [\"Count\", \"Column Type\"]\n",
    "dtype_df.groupby(\"Column Type\").aggregate('count').reset_index()"
   ]
  },
  {
   "cell_type": "code",
   "execution_count": 4,
   "metadata": {},
   "outputs": [
    {
     "data": {
      "text/plain": [
       "(2484, 100)"
      ]
     },
     "execution_count": 4,
     "metadata": {},
     "output_type": "execute_result"
    }
   ],
   "source": [
    "m_train_df_enc.shape"
   ]
  },
  {
   "cell_type": "code",
   "execution_count": null,
   "metadata": {
    "collapsed": true
   },
   "outputs": [],
   "source": []
  }
 ],
 "metadata": {
  "kernelspec": {
   "display_name": "Python 3",
   "language": "python",
   "name": "python3"
  },
  "language_info": {
   "codemirror_mode": {
    "name": "ipython",
    "version": 3
   },
   "file_extension": ".py",
   "mimetype": "text/x-python",
   "name": "python",
   "nbconvert_exporter": "python",
   "pygments_lexer": "ipython3",
   "version": "3.6.2"
  }
 },
 "nbformat": 4,
 "nbformat_minor": 2
}
